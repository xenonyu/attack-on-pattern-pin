{
 "cells": [
  {
   "cell_type": "code",
   "execution_count": 1,
   "metadata": {
    "scrolled": false
   },
   "outputs": [
    {
     "name": "stderr",
     "output_type": "stream",
     "text": [
      "/home/user/anaconda3/envs/tensorflow-gpu/lib/python3.7/site-packages/tensorflow/python/framework/dtypes.py:526: FutureWarning: Passing (type, 1) or '1type' as a synonym of type is deprecated; in a future version of numpy, it will be understood as (type, (1,)) / '(1,)type'.\n",
      "  _np_qint8 = np.dtype([(\"qint8\", np.int8, 1)])\n",
      "/home/user/anaconda3/envs/tensorflow-gpu/lib/python3.7/site-packages/tensorflow/python/framework/dtypes.py:527: FutureWarning: Passing (type, 1) or '1type' as a synonym of type is deprecated; in a future version of numpy, it will be understood as (type, (1,)) / '(1,)type'.\n",
      "  _np_quint8 = np.dtype([(\"quint8\", np.uint8, 1)])\n",
      "/home/user/anaconda3/envs/tensorflow-gpu/lib/python3.7/site-packages/tensorflow/python/framework/dtypes.py:528: FutureWarning: Passing (type, 1) or '1type' as a synonym of type is deprecated; in a future version of numpy, it will be understood as (type, (1,)) / '(1,)type'.\n",
      "  _np_qint16 = np.dtype([(\"qint16\", np.int16, 1)])\n",
      "/home/user/anaconda3/envs/tensorflow-gpu/lib/python3.7/site-packages/tensorflow/python/framework/dtypes.py:529: FutureWarning: Passing (type, 1) or '1type' as a synonym of type is deprecated; in a future version of numpy, it will be understood as (type, (1,)) / '(1,)type'.\n",
      "  _np_quint16 = np.dtype([(\"quint16\", np.uint16, 1)])\n",
      "/home/user/anaconda3/envs/tensorflow-gpu/lib/python3.7/site-packages/tensorflow/python/framework/dtypes.py:530: FutureWarning: Passing (type, 1) or '1type' as a synonym of type is deprecated; in a future version of numpy, it will be understood as (type, (1,)) / '(1,)type'.\n",
      "  _np_qint32 = np.dtype([(\"qint32\", np.int32, 1)])\n",
      "/home/user/anaconda3/envs/tensorflow-gpu/lib/python3.7/site-packages/tensorflow/python/framework/dtypes.py:535: FutureWarning: Passing (type, 1) or '1type' as a synonym of type is deprecated; in a future version of numpy, it will be understood as (type, (1,)) / '(1,)type'.\n",
      "  np_resource = np.dtype([(\"resource\", np.ubyte, 1)])\n",
      "Using TensorFlow backend.\n"
     ]
    },
    {
     "name": "stdout",
     "output_type": "stream",
     "text": [
      "WARNING:tensorflow:From /home/user/anaconda3/envs/tensorflow-gpu/lib/python3.7/site-packages/tensorflow/python/ops/resource_variable_ops.py:435: colocate_with (from tensorflow.python.framework.ops) is deprecated and will be removed in a future version.\n",
      "Instructions for updating:\n",
      "Colocations handled automatically by placer.\n",
      "/backup1/xymmodel/yolo/model_data/B5_243.h5 model, anchors, and classes loaded.\n"
     ]
    }
   ],
   "source": [
    "import sys\n",
    "import os\n",
    "import cv2\n",
    "os.environ['CUDA_VISIBLE_DEVICES'] = '/gpu:0'\n",
    "sys.path.append('/backup1/xymmodel/HandPose')\n",
    "sys.path.append('/backup1/xymmodel/yolo')\n",
    "from detect_cell_phone import EfficientDet\n",
    "from detect_finger import detect_finger\n",
    "from yolo import YOLO\n",
    "from PIL import Image\n",
    "import numpy as np\n",
    "yolo = YOLO(model_path=\"/backup1/xymmodel/yolo/model_data/B5_243.h5\")"
   ]
  },
  {
   "cell_type": "code",
   "execution_count": 2,
   "metadata": {},
   "outputs": [],
   "source": [
    "def inside(point, box):\n",
    "        return box[0] < point[0] < box[2] and box[1] < point[1] < box[3]"
   ]
  },
  {
   "cell_type": "code",
   "execution_count": 25,
   "metadata": {},
   "outputs": [],
   "source": [
    "def get_larger_box(xy, scale, w, h):\n",
    "    \"\"\"\n",
    "    Args:\n",
    "        xy: bounding boxes in boundary coordinates, a tensor of size (n_boxes, 4)\n",
    "        scale: the scale of box\n",
    "    Returns: \n",
    "        bounding boxes in center-size coordinates, a tensor of size (n_boxes, 4)\n",
    "    \"\"\"\n",
    "    xy = np.reshape(xy, (1, 4))\n",
    "    cx_cy = np.concatenate(((xy[:, 2:] + xy[:, :2]) / 2,  # c_x, c_y\n",
    "                      (xy[:, 2:] - xy[:, :2]) * scale), axis = 1) # w, h\n",
    "    # 将直接放大scale倍改为仅放大小边长度\n",
    "    # min的值是较短的边乘以scale\n",
    "    min = np.array([cx_cy[:, 3][i] if(cx_cy[:, 3][i] < cx_cy[:, 2][i]) else cx_cy[:, 2][i] for i in range(len(cx_cy[:, 3]))], dtype=np.int16)\n",
    "    left_y = cx_cy[:, 1] - min * 0.5\n",
    "    left_x = cx_cy[:, 0] - 0.5 * min\n",
    "    right_y = cx_cy[:, 1] + 0.5 * min\n",
    "    right_x = cx_cy[:, 0] + 0.5 * min\n",
    "    left_y = np.array([item if item > 0 else 0 for item in left_y], dtype=np.int16)\n",
    "    left_x = np.array([item if item > 0 else 0 for item in left_x], dtype=np.int16)\n",
    "    right_y = np.array([item if item <= h else h for item in right_y], dtype=np.int16)\n",
    "    right_x = np.array([item if item <= w else w for item in right_x], dtype=np.int16)\n",
    "    return np.stack((left_x, left_y, right_x, right_y), axis = 1) # w, h\n",
    "\n",
    "def find_start(video_path):\n",
    "    video = cv2.VideoCapture(video_path)\n",
    "    videoName = os.path.splitext(os.path.split(video_path)[1])[0]\n",
    "    count = 0\n",
    "    if not video.isOpened():\n",
    "        print(\"Couldn't open the video...\")\n",
    "    while True:\n",
    "        count += 1\n",
    "        ret, frame = video.read()\n",
    "        if count < 100 or count % 5:\n",
    "            continue\n",
    "        if not ret:\n",
    "            break\n",
    "\n",
    "        # 第一步：检测手机，检测不到手机则跳过当前帧。\n",
    "        PILFrame = Image.fromarray(frame)\n",
    "        _, phone = yolo.detect_image(PILFrame)\n",
    "        phone = phone[0]\n",
    "        if phone is None or len(phone) < 4:\n",
    "            print(f'第{count}帧，检测不到手机...')\n",
    "            continue\n",
    "\n",
    "        # 第二步：检测指尖。这步里会对手机区域放大后进行裁剪，只检测裁剪区域内是否存在指尖，检测不到则跳过当前帧。\n",
    "        big_box = get_larger_box(phone, 4, frame.shape[1], frame.shape[0])[0]\n",
    "        mid_box = get_larger_box(phone, 1.9, frame.shape[1], frame.shape[0])[0]\n",
    "        threshold = 0.3\n",
    "        finger = detect_finger(frame, big_box, threshold, only_index_finger=False)\n",
    "        print(finger)\n",
    "        if not finger:\n",
    "            print(f'第{count}帧，检测到手机但检测不到手指...')\n",
    "            continue\n",
    "        # 第三步：如果检测到了指尖，且该指尖区域在两倍到四倍手机尺寸范围内，才认为是右手指尖。\n",
    "        else:\n",
    "            if len(finger) > 22:\n",
    "                print(f\"开始帧为第{count}帧...\")\n",
    "                break\n",
    "            else:\n",
    "                print(f\"第{count}帧右手未进入\")\n",
    "    return {\n",
    "        'frame':frame,\n",
    "        'count':count,\n",
    "        'phone':phone,\n",
    "        'finger':finger,\n",
    "        'phone_4_times':big_box,\n",
    "        'mid_box':mid_box\n",
    "    }\n"
   ]
  },
  {
   "cell_type": "code",
   "execution_count": 26,
   "metadata": {
    "scrolled": false
   },
   "outputs": [
    {
     "name": "stdout",
     "output_type": "stream",
     "text": [
      "SSSM-B5-042\n",
      "第100帧，检测不到手机...\n",
      "第105帧，检测不到手机...\n",
      "第110帧，检测不到手机...\n",
      "第115帧，检测不到手机...\n",
      "第120帧，检测不到手机...\n",
      "第125帧，检测不到手机...\n",
      "第130帧，检测不到手机...\n",
      "第135帧，检测不到手机...\n",
      "[[0.4306161105632782, [1363, 426]], [0.502587080001831, [1364, 432]], [0.5527404546737671, [1369, 433]], [0.6296466588973999, [1382, 433]], [0.5037797689437866, [1390, 433]], [0.4206670820713043, [1409, 459]], [0.34040942788124084, [1396, 498]], [0.4596034288406372, [1383, 505]], [0.4580317735671997, [1422, 471]], [0.5859948396682739, [1409, 498]], [0.6062257289886475, [1396, 504]], [0.6262022852897644, [1382, 511]], [0.5170938968658447, [1428, 472]], [0.593989372253418, [1415, 492]], [0.5254083275794983, [1396, 504]], [0.46665894985198975, [1389, 504]], [0.5042676329612732, [1428, 472]], [0.3488420844078064, [1416, 491]], [0.36708080768585205, [1402, 498]]]\n",
      "第140帧右手未进入\n",
      "[[0.5336354970932007, [1391, 457]], [0.3695632219314575, [1391, 457]], [0.31711170077323914, [1411, 464]], [0.43207812309265137, [1429, 471]], [0.44834068417549133, [1444, 494]], [0.3828142583370209, [1407, 540]], [0.38107189536094666, [1459, 502]], [0.47249457240104675, [1437, 532]], [0.4042513072490692, [1422, 539]], [0.40435683727264404, [1407, 540]], [0.4326026439666748, [1459, 510]], [0.3929392099380493, [1437, 532]], [0.3844551146030426, [1459, 510]]]\n",
      "第145帧右手未进入\n",
      "[[0.3939199447631836, [1407, 478]], [0.5041208267211914, [1413, 485]], [0.6804112195968628, [1413, 491]], [0.7011266350746155, [1432, 491]], [0.5799670815467834, [1446, 497]], [0.43326535820961, [1459, 524]], [0.40149345993995667, [1466, 531]], [0.5769147276878357, [1446, 557]], [0.40826475620269775, [1432, 563]], [0.4155823290348053, [1420, 569]], [0.4563232362270355, [1472, 537]], [0.3458651304244995, [1452, 556]], [0.3999224901199341, [1478, 537]]]\n",
      "第150帧右手未进入\n",
      "[[0.513828456401825, [1427, 489]], [0.5970600247383118, [1433, 495]], [0.5652049779891968, [1438, 505]], [0.5048625469207764, [1450, 511]], [0.5959727168083191, [1472, 522]]]\n",
      "第155帧右手未进入\n",
      "[[0.340803325176239, [1438, 498]], [0.40576204657554626, [1443, 503]], [0.5064677596092224, [1447, 509]], [0.5243534445762634, [1462, 518]], [0.7109939455986023, [1477, 533]]]\n",
      "第160帧右手未进入\n",
      "[[0.30488207936286926, [1443, 497]], [0.37277036905288696, [1447, 502]], [0.5664482116699219, [1455, 514]], [0.5320873260498047, [1463, 527]], [0.5881960391998291, [1464, 540]]]\n",
      "第165帧右手未进入\n",
      "[]\n",
      "第170帧，检测到手机但检测不到手指...\n",
      "[]\n",
      "第175帧，检测到手机但检测不到手指...\n",
      "[[0.39565035700798035, [1471, 582]], [0.46050548553466797, [1457, 589]]]\n",
      "第180帧右手未进入\n",
      "[[0.38679325580596924, [1439, 495]], [0.5493993759155273, [1444, 505]], [0.6644079685211182, [1449, 515]], [0.6849933862686157, [1460, 521]], [0.6981338858604431, [1476, 531]], [0.3393440246582031, [1445, 571]], [0.3803000748157501, [1439, 577]], [0.46983134746551514, [1445, 587]], [0.3437879681587219, [1481, 576]], [0.4568745195865631, [1470, 582]], [0.44637131690979004, [1460, 588]]]\n",
      "第185帧右手未进入\n",
      "[[0.479729026556015, [1438, 493]], [0.6516123414039612, [1444, 499]], [0.597980260848999, [1450, 510]], [0.7316434383392334, [1467, 516]], [0.7120057940483093, [1479, 527]], [0.404548704624176, [1449, 585]], [0.32098135352134705, [1479, 579]], [0.32022514939308167, [1467, 585]], [0.32487547397613525, [1450, 585]]]\n",
      "第190帧右手未进入\n",
      "[[0.3044711649417877, [1439, 497]], [0.5018056035041809, [1444, 502]], [0.5548000335693359, [1450, 508]], [0.6281036138534546, [1470, 513]], [0.6946099996566772, [1487, 518]]]\n",
      "第195帧右手未进入\n",
      "[[0.3387351334095001, [1444, 503]], [0.48755520582199097, [1449, 504]], [0.5525475740432739, [1454, 504]], [0.6326184272766113, [1471, 504]], [0.7090867757797241, [1493, 514]]]\n",
      "第200帧右手未进入\n",
      "[[0.4763889014720917, [1449, 508]], [0.48495063185691833, [1454, 503]], [0.5542210936546326, [1471, 503]], [0.7040377855300903, [1493, 514]]]\n",
      "第205帧右手未进入\n",
      "[[0.4273983836174011, [1445, 505]], [0.4548783600330353, [1456, 506]], [0.5392669439315796, [1472, 506]], [0.6479293704032898, [1492, 511]]]\n",
      "第210帧右手未进入\n",
      "[[0.43414419889450073, [1449, 504]], [0.47671884298324585, [1460, 504]], [0.5484839677810669, [1472, 504]], [0.6755154132843018, [1493, 515]]]\n",
      "第215帧右手未进入\n",
      "[[0.31084930896759033, [1443, 502]], [0.49380961060523987, [1448, 502]], [0.5091505646705627, [1454, 502]], [0.6777086853981018, [1471, 508]], [0.735400915145874, [1488, 513]], [0.3370750844478607, [1454, 587]], [0.3401837646961212, [1482, 570]]]\n",
      "第220帧右手未进入\n",
      "[[0.35157591104507446, [1442, 496]], [0.5614404678344727, [1448, 502]], [0.5688728094100952, [1454, 502]], [0.7180995941162109, [1471, 507]], [0.8095113039016724, [1488, 513]]]\n",
      "第225帧右手未进入\n",
      "[[0.34047189354896545, [1443, 503]], [0.5104303956031799, [1448, 503]], [0.5770785212516785, [1454, 503]], [0.6872472167015076, [1471, 509]], [0.7632615566253662, [1488, 514]], [0.32220420241355896, [1454, 588]]]\n",
      "第230帧右手未进入\n",
      "[[0.46072903275489807, [1441, 488]], [0.5369884967803955, [1448, 502]], [0.5596432089805603, [1449, 509]], [0.6039947867393494, [1469, 509]], [0.637871503829956, [1491, 510]]]\n",
      "第235帧右手未进入\n",
      "[[0.662135124206543, [1385, 658]], [0.3641153573989868, [1439, 490]], [0.5875130891799927, [1400, 635]], [0.49792051315307617, [1446, 498]], [0.5942331552505493, [1408, 613]], [0.4682573080062866, [1447, 505]], [0.5719582438468933, [1469, 506]], [0.4593494236469269, [1423, 612]], [0.6099055409431458, [1492, 513]], [0.4883768558502197, [1408, 627]], [0.7449557185173035, [1438, 613]], [0.7677914500236511, [1454, 612]], [0.8121262192726135, [1469, 605]], [0.5752081871032715, [1416, 643]], [0.6126754283905029, [1446, 628]], [0.4432752728462219, [1439, 628]], [0.4394725561141968, [1430, 627]], [0.6390132904052734, [1423, 651]], [0.576129674911499, [1446, 636]], [0.4670645296573639, [1438, 636]], [0.46417707204818726, [1430, 636]], [0.604960560798645, [1430, 659]], [0.6453410387039185, [1446, 651]], [0.5851696729660034, [1438, 651]], [0.5940403938293457, [1431, 651]]]\n",
      "开始帧为第240帧...\n"
     ]
    }
   ],
   "source": [
    "video = \"SSSM-B5-042\"\n",
    "videoDir = \"/home/user/zy/attack-on-pattern-pin/data/batch_5/\"\n",
    "outputDir = \"/home/user/zy/attack-on-pattern-pin/results/batch_5/\"\n",
    "videoNames = os.listdir(videoDir)\n",
    "videoNames.sort(key=lambda x: x[-7:-4])\n",
    "for videoName in videoNames:\n",
    "    name, vType = os.path.splitext(videoName)\n",
    "    if (vType != \".mp4\"):\n",
    "        continue\n",
    "    if (name != video):\n",
    "        continue\n",
    "    if (int(name[-2:]) <= 34): continue\n",
    "    print(name)\n",
    "    ret = find_start(videoDir + videoName)\n",
    "    if not ret['finger'] or len(ret['finger']) < 18:\n",
    "        continue\n",
    "    if not os.path.exists(os.path.join(outputDir, name)):\n",
    "        os.mkdir(os.path.join(outputDir, name))\n",
    "\n",
    "    cv2.rectangle(ret['frame'],(ret['phone_4_times'][0], ret['phone_4_times'][1]),(ret['phone_4_times'][2], ret['phone_4_times'][3]),(0,255,0),3)\n",
    "    cv2.imwrite(os.path.join(outputDir, name, \"start.jpg\"), ret['frame'])\n",
    "    with open(os.path.join(outputDir, name, \"start2.txt\"), \"w\") as f:\n",
    "        f.write(str(ret['count']))\n",
    "#     break\n",
    "    "
   ]
  },
  {
   "cell_type": "code",
   "execution_count": 12,
   "metadata": {},
   "outputs": [
    {
     "name": "stdout",
     "output_type": "stream",
     "text": [
      "[[0.6815094947814941, [1074, 356]], [0.511264979839325, [1082, 350]], [0.5740032196044922, [1071, 373]], [0.6206931471824646, [1082, 359]], [0.6904919743537903, [1088, 351]], [0.7164154052734375, [1096, 345]], [0.47652554512023926, [1076, 379]], [0.4518216550350189, [1085, 368]], [0.6963211894035339, [1091, 364]], [0.5022012591362, [1094, 362]], [0.5458832383155823, [1082, 387]], [0.6494020223617554, [1088, 379]], [0.7412198185920715, [1096, 373]], [0.661288857460022, [1099, 371]], [0.510644257068634, [1090, 394]], [0.5791364908218384, [1096, 388]], [0.6191408038139343, [1100, 382]], [0.6142181158065796, [1103, 379]]] [1044  272 1176  404]\n"
     ]
    },
    {
     "data": {
      "text/plain": [
       "True"
      ]
     },
     "execution_count": 12,
     "metadata": {},
     "output_type": "execute_result"
    }
   ],
   "source": [
    "import cv2\n",
    "print(ret['finger'], ret['phone_4_times'])\n",
    "cv2.rectangle(ret['frame'],(ret['phone'][0], ret['phone'][1]), (ret['phone'][2], ret['phone'][3]),(0,255,0),3)\n",
    "cv2.rectangle(ret['frame'],(ret['mid_box'][0], ret['mid_box'][1]),(ret['mid_box'][2], ret['mid_box'][3]),(0,255,0),3)\n",
    "cv2.rectangle(ret['frame'],(ret['phone_4_times'][0], ret['phone_4_times'][1]),(ret['phone_4_times'][2], ret['phone_4_times'][3]),(0,255,0),3)\n",
    "cv2.circle(ret['frame'], tuple(ret['finger'][0][1]), 3, (0,0,255), -1)\n",
    "# cv2.circle(ret['frame'], tuple(ret['finger'][1][1]), 3, (0,0,255), -1)\n",
    "cv2.imwrite('/home/user/zy/attack-on-pattern-pin/data/temp2.jpg', ret['frame'])"
   ]
  },
  {
   "cell_type": "code",
   "execution_count": null,
   "metadata": {},
   "outputs": [],
   "source": []
  }
 ],
 "metadata": {
  "kernelspec": {
   "display_name": "Python tensorflow-gpu",
   "language": "python",
   "name": "tensorflow-gpu"
  },
  "language_info": {
   "codemirror_mode": {
    "name": "ipython",
    "version": 3
   },
   "file_extension": ".py",
   "mimetype": "text/x-python",
   "name": "python",
   "nbconvert_exporter": "python",
   "pygments_lexer": "ipython3",
   "version": "3.7.3"
  }
 },
 "nbformat": 4,
 "nbformat_minor": 2
}
